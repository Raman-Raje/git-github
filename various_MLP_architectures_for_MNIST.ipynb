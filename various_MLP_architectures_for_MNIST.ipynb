{
  "nbformat": 4,
  "nbformat_minor": 0,
  "metadata": {
    "colab": {
      "name": " various MLP architectures for MNIST.ipynb",
      "version": "0.3.2",
      "provenance": [],
      "collapsed_sections": [],
      "include_colab_link": true
    },
    "kernelspec": {
      "name": "python3",
      "display_name": "Python 3"
    }
  },
  "cells": [
    {
      "cell_type": "markdown",
      "metadata": {
        "id": "view-in-github",
        "colab_type": "text"
      },
      "source": [
        "<a href=\"https://colab.research.google.com/github/Raman-Raje/git-github/blob/master/various_MLP_architectures_for_MNIST.ipynb\" target=\"_parent\"><img src=\"https://colab.research.google.com/assets/colab-badge.svg\" alt=\"Open In Colab\"/></a>"
      ]
    },
    {
      "metadata": {
        "id": "K1DK_BI5r6Td",
        "colab_type": "code",
        "outputId": "c12cead4-17b8-4a85-9692-009bbb6a047f",
        "colab": {
          "base_uri": "https://localhost:8080/",
          "height": 34
        }
      },
      "cell_type": "code",
      "source": [
        "import numpy as np\n",
        "import matplotlib.pyplot as plt\n",
        "import pandas as pd\n",
        "import numpy as np\n",
        "from IPython.display import SVG\n",
        "from keras.utils.vis_utils import model_to_dot\n",
        "from keras.datasets import mnist\n",
        "from keras.models import Sequential\n",
        "from keras.layers import Dense,Dropout,BatchNormalization\n",
        "from keras.utils import to_categorical"
      ],
      "execution_count": 0,
      "outputs": [
        {
          "output_type": "stream",
          "text": [
            "Using TensorFlow backend.\n"
          ],
          "name": "stderr"
        }
      ]
    },
    {
      "metadata": {
        "id": "3RVV50i9w9Xt",
        "colab_type": "code",
        "colab": {}
      },
      "cell_type": "code",
      "source": [
        "(x_train, y_train), (x_test, y_test) = mnist.load_data()"
      ],
      "execution_count": 0,
      "outputs": []
    },
    {
      "metadata": {
        "id": "3KRLh87xxLQd",
        "colab_type": "code",
        "colab": {}
      },
      "cell_type": "code",
      "source": [
        "# Reshape data\n",
        "# took referance form https://www.kdnuggets.com/2018/06/basic-keras-neural-network-sequential-model.html\n",
        "x_train = x_train.reshape((x_train.shape[0], 28*28))\n",
        "x_train = x_train.astype('float32') / 255\n",
        "x_test = x_test.reshape((x_test.shape[0], 28*28))\n",
        "x_test = x_test.astype('float32') / 255"
      ],
      "execution_count": 0,
      "outputs": []
    },
    {
      "metadata": {
        "id": "aHXpMMiNxN_d",
        "colab_type": "code",
        "colab": {}
      },
      "cell_type": "code",
      "source": [
        "# converting output classes to categorical\n",
        "y_train = to_categorical(y_train, 10)\n",
        "y_test = to_categorical(y_test, 10)"
      ],
      "execution_count": 0,
      "outputs": []
    },
    {
      "metadata": {
        "id": "Z47PRguwxUKt",
        "colab_type": "code",
        "outputId": "3e2accfb-3f75-46c1-8906-99dec364c688",
        "colab": {
          "base_uri": "https://localhost:8080/",
          "height": 34
        }
      },
      "cell_type": "code",
      "source": [
        "print(x_train.shape)"
      ],
      "execution_count": 0,
      "outputs": [
        {
          "output_type": "stream",
          "text": [
            "(60000, 784)\n"
          ],
          "name": "stdout"
        }
      ]
    },
    {
      "metadata": {
        "id": "qVyf_jfijL8Q",
        "colab_type": "code",
        "colab": {}
      },
      "cell_type": "code",
      "source": [
        "# took referance from https://machinelearningmastery.com/display-deep-learning-model-training-history-in-keras/\n",
        "\n",
        "def accu_loss(history):\n",
        "  plt.figure()\n",
        "  plt.subplot(121)\n",
        "  plt.plot(history.history['acc'])\n",
        "  plt.plot(history.history['val_acc'])\n",
        "  plt.title('Model Accuracy Plot')\n",
        "  plt.ylabel('accuracy')\n",
        "  plt.xlabel('epoch')\n",
        "  plt.legend(['train', 'test'], loc='upper left')\n",
        "  plt.subplot(122)\n",
        "  # summarize history for loss\n",
        "  plt.plot(history.history['loss'])\n",
        "  plt.plot(history.history['val_loss'])\n",
        "  plt.title('Model Loss Plot')\n",
        "  plt.ylabel('loss')\n",
        "  plt.xlabel('epoch')\n",
        "  plt.legend(['train', 'test'], loc='upper left')\n",
        "  plt.show()\n",
        "  "
      ],
      "execution_count": 0,
      "outputs": []
    },
    {
      "metadata": {
        "id": "QN9UWyazJQh-",
        "colab_type": "text"
      },
      "cell_type": "markdown",
      "source": [
        "##1. MNIST_1"
      ]
    },
    {
      "metadata": {
        "id": "a0ICWnuWRb19",
        "colab_type": "code",
        "colab": {}
      },
      "cell_type": "code",
      "source": [
        "# Standard Values\n",
        "BATCH_SIZE = 16\n",
        "EPOCHS = 12"
      ],
      "execution_count": 0,
      "outputs": []
    },
    {
      "metadata": {
        "id": "mEmi-WywKAJz",
        "colab_type": "code",
        "colab": {}
      },
      "cell_type": "code",
      "source": [
        "model =  Sequential()\n",
        "model.add(Dense(128,activation=\"sigmoid\"))\n",
        "model.add(Dropout(0.5))\n",
        "model.add(Dense(64,activation=\"sigmoid\"))\n",
        "model.add(Dropout(0.2))\n",
        "model.add(Dense(10,activation=\"softmax\"))"
      ],
      "execution_count": 0,
      "outputs": []
    },
    {
      "metadata": {
        "id": "CdCWut5pLjYd",
        "colab_type": "code",
        "outputId": "428fa671-8c15-4e54-bcfd-45e52978b761",
        "colab": {
          "base_uri": "https://localhost:8080/",
          "height": 68
        }
      },
      "cell_type": "code",
      "source": [
        "model.compile(optimizer='adam',loss='categorical_crossentropy',metrics=['accuracy'])"
      ],
      "execution_count": 0,
      "outputs": [
        {
          "output_type": "stream",
          "text": [
            "WARNING:tensorflow:From /usr/local/lib/python3.6/dist-packages/tensorflow/python/framework/op_def_library.py:263: colocate_with (from tensorflow.python.framework.ops) is deprecated and will be removed in a future version.\n",
            "Instructions for updating:\n",
            "Colocations handled automatically by placer.\n"
          ],
          "name": "stdout"
        }
      ]
    },
    {
      "metadata": {
        "id": "mtB3_ePYOD1x",
        "colab_type": "code",
        "outputId": "31b8f6b8-09dd-402e-9986-f6cd78d5ac78",
        "colab": {
          "base_uri": "https://localhost:8080/",
          "height": 544
        }
      },
      "cell_type": "code",
      "source": [
        "# Train model\n",
        "history = model.fit(x_train, y_train,batch_size=BATCH_SIZE,epochs=EPOCHS,verbose=1,validation_data=(x_test, y_test))"
      ],
      "execution_count": 0,
      "outputs": [
        {
          "output_type": "stream",
          "text": [
            "WARNING:tensorflow:From /usr/local/lib/python3.6/dist-packages/keras/backend/tensorflow_backend.py:3445: calling dropout (from tensorflow.python.ops.nn_ops) with keep_prob is deprecated and will be removed in a future version.\n",
            "Instructions for updating:\n",
            "Please use `rate` instead of `keep_prob`. Rate should be set to `rate = 1 - keep_prob`.\n",
            "WARNING:tensorflow:From /usr/local/lib/python3.6/dist-packages/tensorflow/python/ops/math_ops.py:3066: to_int32 (from tensorflow.python.ops.math_ops) is deprecated and will be removed in a future version.\n",
            "Instructions for updating:\n",
            "Use tf.cast instead.\n",
            "Train on 60000 samples, validate on 10000 samples\n",
            "Epoch 1/12\n",
            "60000/60000 [==============================] - 12s 198us/step - loss: 0.5878 - acc: 0.8283 - val_loss: 0.2284 - val_acc: 0.9324\n",
            "Epoch 2/12\n",
            "60000/60000 [==============================] - 11s 187us/step - loss: 0.2899 - acc: 0.9148 - val_loss: 0.1697 - val_acc: 0.9476\n",
            "Epoch 3/12\n",
            "60000/60000 [==============================] - 11s 188us/step - loss: 0.2345 - acc: 0.9298 - val_loss: 0.1377 - val_acc: 0.9591\n",
            "Epoch 4/12\n",
            "60000/60000 [==============================] - 11s 190us/step - loss: 0.2035 - acc: 0.9396 - val_loss: 0.1210 - val_acc: 0.9633\n",
            "Epoch 5/12\n",
            "60000/60000 [==============================] - 11s 189us/step - loss: 0.1833 - acc: 0.9450 - val_loss: 0.1125 - val_acc: 0.9654\n",
            "Epoch 6/12\n",
            "60000/60000 [==============================] - 12s 192us/step - loss: 0.1712 - acc: 0.9493 - val_loss: 0.1052 - val_acc: 0.9675\n",
            "Epoch 7/12\n",
            "60000/60000 [==============================] - 11s 190us/step - loss: 0.1603 - acc: 0.9517 - val_loss: 0.1007 - val_acc: 0.9692\n",
            "Epoch 8/12\n",
            "60000/60000 [==============================] - 11s 189us/step - loss: 0.1496 - acc: 0.9550 - val_loss: 0.0969 - val_acc: 0.9704\n",
            "Epoch 9/12\n",
            "60000/60000 [==============================] - 11s 189us/step - loss: 0.1417 - acc: 0.9568 - val_loss: 0.0956 - val_acc: 0.9710\n",
            "Epoch 10/12\n",
            "60000/60000 [==============================] - 11s 187us/step - loss: 0.1396 - acc: 0.9582 - val_loss: 0.0910 - val_acc: 0.9718\n",
            "Epoch 11/12\n",
            "60000/60000 [==============================] - 11s 190us/step - loss: 0.1328 - acc: 0.9603 - val_loss: 0.0883 - val_acc: 0.9735\n",
            "Epoch 12/12\n",
            "60000/60000 [==============================] - 12s 197us/step - loss: 0.1261 - acc: 0.9616 - val_loss: 0.0856 - val_acc: 0.9742\n"
          ],
          "name": "stdout"
        }
      ]
    },
    {
      "metadata": {
        "id": "0pUcvJvKRc6L",
        "colab_type": "code",
        "outputId": "ccdff495-2112-4e06-b863-bc874ded1bcb",
        "colab": {
          "base_uri": "https://localhost:8080/",
          "height": 51
        }
      },
      "cell_type": "code",
      "source": [
        "score = model.evaluate(x_test, y_test, verbose=0)\n",
        "test1_loss = score[0]*100\n",
        "test1_accuracy = score[1]*100\n",
        "\n",
        "print('Test loss:', score[0])\n",
        "print('Test accuracy:', score[1]*100)\n"
      ],
      "execution_count": 0,
      "outputs": [
        {
          "output_type": "stream",
          "text": [
            "Test loss: 0.08561092518400401\n",
            "Test accuracy: 97.42\n"
          ],
          "name": "stdout"
        }
      ]
    },
    {
      "metadata": {
        "id": "PbKk9wC-R1fv",
        "colab_type": "code",
        "outputId": "5bd36896-86ff-4ba6-9545-a1879a7e37ec",
        "colab": {
          "base_uri": "https://localhost:8080/",
          "height": 295
        }
      },
      "cell_type": "code",
      "source": [
        "accu_loss(history)"
      ],
      "execution_count": 0,
      "outputs": [
        {
          "output_type": "display_data",
          "data": {
            "image/png": "[encoded data removed]",
            "text/plain": [
              "<Figure size 432x288 with 2 Axes>"
            ]
          },
          "metadata": {
            "tags": []
          }
        }
      ]
    },
    {
      "metadata": {
        "id": "uCVCQPwHiAtl",
        "colab_type": "text"
      },
      "cell_type": "markdown",
      "source": [
        "##2. MNIST_2"
      ]
    },
    {
      "metadata": {
        "id": "OxxmBg_FiEAP",
        "colab_type": "code",
        "colab": {}
      },
      "cell_type": "code",
      "source": [
        "model =  Sequential()\n",
        "model.add(Dense(128,activation=\"relu\"))\n",
        "model.add(Dropout(0.3))\n",
        "model.add(Dense(64,activation=\"relu\"))\n",
        "model.add(BatchNormalization())\n",
        "model.add(Dense(10,activation=\"softmax\"))"
      ],
      "execution_count": 0,
      "outputs": []
    },
    {
      "metadata": {
        "id": "aumCcV6riGPn",
        "colab_type": "code",
        "outputId": "09abe048-ebc7-466a-cd3f-74ef5e4f0252",
        "colab": {
          "base_uri": "https://localhost:8080/",
          "height": 442
        }
      },
      "cell_type": "code",
      "source": [
        "model.compile(optimizer='adam',loss='categorical_crossentropy',metrics=['accuracy'])\n",
        "history = model.fit(x_train, y_train,batch_size=BATCH_SIZE,epochs=EPOCHS,verbose=1,validation_data=(x_test, y_test))"
      ],
      "execution_count": 0,
      "outputs": [
        {
          "output_type": "stream",
          "text": [
            "Train on 60000 samples, validate on 10000 samples\n",
            "Epoch 1/12\n",
            "60000/60000 [==============================] - 13s 224us/step - loss: 0.3502 - acc: 0.8936 - val_loss: 0.1490 - val_acc: 0.9550\n",
            "Epoch 2/12\n",
            "60000/60000 [==============================] - 12s 205us/step - loss: 0.2019 - acc: 0.9394 - val_loss: 0.1110 - val_acc: 0.9667\n",
            "Epoch 3/12\n",
            "60000/60000 [==============================] - 12s 205us/step - loss: 0.1626 - acc: 0.9522 - val_loss: 0.0900 - val_acc: 0.9713\n",
            "Epoch 4/12\n",
            "60000/60000 [==============================] - 12s 207us/step - loss: 0.1439 - acc: 0.9563 - val_loss: 0.0871 - val_acc: 0.9733\n",
            "Epoch 5/12\n",
            "60000/60000 [==============================] - 12s 203us/step - loss: 0.1279 - acc: 0.9619 - val_loss: 0.0851 - val_acc: 0.9741\n",
            "Epoch 6/12\n",
            "60000/60000 [==============================] - 12s 205us/step - loss: 0.1193 - acc: 0.9637 - val_loss: 0.0712 - val_acc: 0.9771\n",
            "Epoch 7/12\n",
            "60000/60000 [==============================] - 12s 203us/step - loss: 0.1105 - acc: 0.9670 - val_loss: 0.0709 - val_acc: 0.9781\n",
            "Epoch 8/12\n",
            "60000/60000 [==============================] - 12s 203us/step - loss: 0.1022 - acc: 0.9682 - val_loss: 0.0717 - val_acc: 0.9781\n",
            "Epoch 9/12\n",
            "60000/60000 [==============================] - 12s 203us/step - loss: 0.0985 - acc: 0.9694 - val_loss: 0.0646 - val_acc: 0.9804\n",
            "Epoch 10/12\n",
            "60000/60000 [==============================] - 12s 205us/step - loss: 0.0918 - acc: 0.9720 - val_loss: 0.0678 - val_acc: 0.9789\n",
            "Epoch 11/12\n",
            "60000/60000 [==============================] - 12s 207us/step - loss: 0.0880 - acc: 0.9728 - val_loss: 0.0700 - val_acc: 0.9791\n",
            "Epoch 12/12\n",
            "60000/60000 [==============================] - 12s 201us/step - loss: 0.0834 - acc: 0.9739 - val_loss: 0.0679 - val_acc: 0.9790\n"
          ],
          "name": "stdout"
        }
      ]
    },
    {
      "metadata": {
        "id": "oYJu-p3LiHv-",
        "colab_type": "code",
        "outputId": "c2432f5b-0ba8-4b45-a68d-2731e807c5cd",
        "colab": {
          "base_uri": "https://localhost:8080/",
          "height": 51
        }
      },
      "cell_type": "code",
      "source": [
        "score = model.evaluate(x_test, y_test, verbose=0)\n",
        "test2_loss = score[0]*100\n",
        "test2_accuracy = score[1]*100\n",
        "\n",
        "print('Test loss:', score[0])\n",
        "print('Test accuracy:', score[1]*100)\n"
      ],
      "execution_count": 0,
      "outputs": [
        {
          "output_type": "stream",
          "text": [
            "Test loss: 0.06788660122929141\n",
            "Test accuracy: 97.89999999999999\n"
          ],
          "name": "stdout"
        }
      ]
    },
    {
      "metadata": {
        "id": "AmEzn3j4iJQG",
        "colab_type": "code",
        "outputId": "d8e96ba8-a106-4442-ef5c-47d33ad1e50b",
        "colab": {
          "base_uri": "https://localhost:8080/",
          "height": 295
        }
      },
      "cell_type": "code",
      "source": [
        "accu_loss(history)"
      ],
      "execution_count": 0,
      "outputs": [
        {
          "output_type": "display_data",
          "data": {
            "image/png": "[encoded data removed]",
            "text/plain": [
              "<Figure size 432x288 with 2 Axes>"
            ]
          },
          "metadata": {
            "tags": []
          }
        }
      ]
    },
    {
      "metadata": {
        "id": "a15lQ9u7R8I5",
        "colab_type": "text"
      },
      "cell_type": "markdown",
      "source": [
        "## 3. MNIST_2"
      ]
    },
    {
      "metadata": {
        "id": "3HkurMGcR-9e",
        "colab_type": "code",
        "colab": {}
      },
      "cell_type": "code",
      "source": [
        "model =  Sequential()\n",
        "model.add(Dense(128,activation=\"relu\"))\n",
        "model.add(Dense(64,activation=\"relu\"))\n",
        "model.add(BatchNormalization())\n",
        "model.add(Dense(10,activation=\"softmax\"))"
      ],
      "execution_count": 0,
      "outputs": []
    },
    {
      "metadata": {
        "id": "wvAMYdF1X29M",
        "colab_type": "code",
        "outputId": "96dc79b7-82b8-4780-b4cc-557b4bb9e03b",
        "colab": {
          "base_uri": "https://localhost:8080/",
          "height": 442
        }
      },
      "cell_type": "code",
      "source": [
        "model.compile(optimizer='adam',loss='categorical_crossentropy',metrics=['accuracy'])\n",
        "history = model.fit(x_train, y_train,batch_size=BATCH_SIZE,epochs=EPOCHS,verbose=1,validation_data=(x_test, y_test))"
      ],
      "execution_count": 0,
      "outputs": [
        {
          "output_type": "stream",
          "text": [
            "Train on 60000 samples, validate on 10000 samples\n",
            "Epoch 1/12\n",
            "60000/60000 [==============================] - 12s 206us/step - loss: 0.2513 - acc: 0.9248 - val_loss: 0.1625 - val_acc: 0.9493\n",
            "Epoch 2/12\n",
            "60000/60000 [==============================] - 12s 200us/step - loss: 0.1287 - acc: 0.9604 - val_loss: 0.1005 - val_acc: 0.9683\n",
            "Epoch 3/12\n",
            "60000/60000 [==============================] - 12s 200us/step - loss: 0.0936 - acc: 0.9724 - val_loss: 0.1030 - val_acc: 0.9680\n",
            "Epoch 4/12\n",
            "60000/60000 [==============================] - 12s 200us/step - loss: 0.0782 - acc: 0.9757 - val_loss: 0.0834 - val_acc: 0.9717\n",
            "Epoch 5/12\n",
            "60000/60000 [==============================] - 12s 200us/step - loss: 0.0642 - acc: 0.9798 - val_loss: 0.0710 - val_acc: 0.9776\n",
            "Epoch 6/12\n",
            "60000/60000 [==============================] - 12s 206us/step - loss: 0.0536 - acc: 0.9823 - val_loss: 0.0870 - val_acc: 0.9758\n",
            "Epoch 7/12\n",
            "60000/60000 [==============================] - 12s 207us/step - loss: 0.0470 - acc: 0.9853 - val_loss: 0.0840 - val_acc: 0.9751\n",
            "Epoch 8/12\n",
            "60000/60000 [==============================] - 12s 206us/step - loss: 0.0428 - acc: 0.9864 - val_loss: 0.0808 - val_acc: 0.9780\n",
            "Epoch 9/12\n",
            "60000/60000 [==============================] - 12s 205us/step - loss: 0.0370 - acc: 0.9882 - val_loss: 0.0778 - val_acc: 0.9783\n",
            "Epoch 10/12\n",
            "60000/60000 [==============================] - 12s 203us/step - loss: 0.0328 - acc: 0.9896 - val_loss: 0.0650 - val_acc: 0.9805\n",
            "Epoch 11/12\n",
            "60000/60000 [==============================] - 12s 202us/step - loss: 0.0297 - acc: 0.9906 - val_loss: 0.0770 - val_acc: 0.9782\n",
            "Epoch 12/12\n",
            "60000/60000 [==============================] - 12s 202us/step - loss: 0.0289 - acc: 0.9908 - val_loss: 0.0687 - val_acc: 0.9815\n"
          ],
          "name": "stdout"
        }
      ]
    },
    {
      "metadata": {
        "id": "TZN8Dc4dX-Su",
        "colab_type": "code",
        "outputId": "0ad78a1a-201d-459f-ade5-1b4888b791c6",
        "colab": {
          "base_uri": "https://localhost:8080/",
          "height": 51
        }
      },
      "cell_type": "code",
      "source": [
        "score = model.evaluate(x_test, y_test, verbose=0)\n",
        "test3_loss = score[0]*100\n",
        "test3_accuracy = score[1]*100\n",
        "\n",
        "print('Test loss:', score[0])\n",
        "print('Test accuracy:', score[1]*100)\n"
      ],
      "execution_count": 0,
      "outputs": [
        {
          "output_type": "stream",
          "text": [
            "Test loss: 0.06867760741595412\n",
            "Test accuracy: 98.15\n"
          ],
          "name": "stdout"
        }
      ]
    },
    {
      "metadata": {
        "id": "mASygThUYB-J",
        "colab_type": "code",
        "outputId": "6c1416d6-f01a-478d-b25a-5d23df3f85f4",
        "colab": {
          "base_uri": "https://localhost:8080/",
          "height": 295
        }
      },
      "cell_type": "code",
      "source": [
        "accu_loss(history)"
      ],
      "execution_count": 0,
      "outputs": [
        {
          "output_type": "display_data",
          "data": {
            "image/png": "[encoded data removed]",
            "text/plain": [
              "<Figure size 432x288 with 2 Axes>"
            ]
          },
          "metadata": {
            "tags": []
          }
        }
      ]
    },
    {
      "metadata": {
        "id": "rmeOpVhIYFuZ",
        "colab_type": "text"
      },
      "cell_type": "markdown",
      "source": [
        "##4. MNIST_3"
      ]
    },
    {
      "metadata": {
        "id": "9eQyw-HiYFLP",
        "colab_type": "code",
        "colab": {}
      },
      "cell_type": "code",
      "source": [
        "model =  Sequential()\n",
        "model.add(Dense(64,activation=\"relu\"))\n",
        "model.add(Dense(32,activation=\"relu\"))\n",
        "model.add(BatchNormalization())\n",
        "model.add(Dense(10,activation=\"softmax\"))"
      ],
      "execution_count": 0,
      "outputs": []
    },
    {
      "metadata": {
        "id": "8n-RtaonYUoC",
        "colab_type": "code",
        "outputId": "e774f9fe-981d-4601-c1e5-9e931165a128",
        "colab": {
          "base_uri": "https://localhost:8080/",
          "height": 442
        }
      },
      "cell_type": "code",
      "source": [
        "model.compile(optimizer='adam',loss='categorical_crossentropy',metrics=['accuracy'])\n",
        "history = model.fit(x_train, y_train,batch_size=BATCH_SIZE,epochs=EPOCHS,verbose=1,validation_data=(x_test, y_test))"
      ],
      "execution_count": 0,
      "outputs": [
        {
          "output_type": "stream",
          "text": [
            "Train on 60000 samples, validate on 10000 samples\n",
            "Epoch 1/12\n",
            "60000/60000 [==============================] - 9s 148us/step - loss: 0.2856 - acc: 0.9174 - val_loss: 0.1411 - val_acc: 0.9561\n",
            "Epoch 2/12\n",
            "60000/60000 [==============================] - 8s 137us/step - loss: 0.1432 - acc: 0.9575 - val_loss: 0.1097 - val_acc: 0.9663\n",
            "Epoch 3/12\n",
            "60000/60000 [==============================] - 8s 140us/step - loss: 0.1137 - acc: 0.9656 - val_loss: 0.1010 - val_acc: 0.9693\n",
            "Epoch 4/12\n",
            "60000/60000 [==============================] - 8s 134us/step - loss: 0.0963 - acc: 0.9709 - val_loss: 0.0974 - val_acc: 0.9697\n",
            "Epoch 5/12\n",
            "60000/60000 [==============================] - 8s 135us/step - loss: 0.0832 - acc: 0.9747 - val_loss: 0.0858 - val_acc: 0.9743\n",
            "Epoch 6/12\n",
            "60000/60000 [==============================] - 8s 135us/step - loss: 0.0754 - acc: 0.9767 - val_loss: 0.0852 - val_acc: 0.9732\n",
            "Epoch 7/12\n",
            "60000/60000 [==============================] - 8s 135us/step - loss: 0.0668 - acc: 0.9790 - val_loss: 0.0815 - val_acc: 0.9742\n",
            "Epoch 8/12\n",
            "60000/60000 [==============================] - 8s 134us/step - loss: 0.0606 - acc: 0.9808 - val_loss: 0.0897 - val_acc: 0.9738\n",
            "Epoch 9/12\n",
            "60000/60000 [==============================] - 8s 133us/step - loss: 0.0573 - acc: 0.9818 - val_loss: 0.0868 - val_acc: 0.9763\n",
            "Epoch 10/12\n",
            "60000/60000 [==============================] - 8s 135us/step - loss: 0.0525 - acc: 0.9843 - val_loss: 0.0851 - val_acc: 0.9749\n",
            "Epoch 11/12\n",
            "60000/60000 [==============================] - 9s 143us/step - loss: 0.0496 - acc: 0.9844 - val_loss: 0.0988 - val_acc: 0.9725\n",
            "Epoch 12/12\n",
            "60000/60000 [==============================] - 8s 134us/step - loss: 0.0447 - acc: 0.9857 - val_loss: 0.0919 - val_acc: 0.9729\n"
          ],
          "name": "stdout"
        }
      ]
    },
    {
      "metadata": {
        "id": "T4jZaGvcYV7K",
        "colab_type": "code",
        "outputId": "6aa1a002-fad4-4fe5-f1b3-e7f02c43061d",
        "colab": {
          "base_uri": "https://localhost:8080/",
          "height": 51
        }
      },
      "cell_type": "code",
      "source": [
        "score = model.evaluate(x_test, y_test, verbose=0)\n",
        "test4_loss = score[0]*100\n",
        "test4_accuracy = score[1]*100\n",
        "\n",
        "print('Test loss:', score[0])\n",
        "print('Test accuracy:', score[1]*100)\n"
      ],
      "execution_count": 0,
      "outputs": [
        {
          "output_type": "stream",
          "text": [
            "Test loss: 0.09193138070863206\n",
            "Test accuracy: 97.28999999999999\n"
          ],
          "name": "stdout"
        }
      ]
    },
    {
      "metadata": {
        "id": "I1zILBCYYW4j",
        "colab_type": "code",
        "outputId": "4b99b688-cd02-4921-83cf-b7edad3b91ac",
        "colab": {
          "base_uri": "https://localhost:8080/",
          "height": 295
        }
      },
      "cell_type": "code",
      "source": [
        "accu_loss(history)"
      ],
      "execution_count": 0,
      "outputs": [
        {
          "output_type": "display_data",
          "data": {
            "image/png": "[encoded data removed]",
            "text/plain": [
              "<Figure size 432x288 with 2 Axes>"
            ]
          },
          "metadata": {
            "tags": []
          }
        }
      ]
    },
    {
      "metadata": {
        "id": "LdJsTMZDZyL3",
        "colab_type": "text"
      },
      "cell_type": "markdown",
      "source": [
        "##5. MNIST_4"
      ]
    },
    {
      "metadata": {
        "id": "N1UCMk5OZsiL",
        "colab_type": "code",
        "colab": {}
      },
      "cell_type": "code",
      "source": [
        "model =  Sequential()\n",
        "model.add(Dense(64,activation=\"relu\"))\n",
        "model.add(Dense(32,activation=\"relu\"))\n",
        "model.add(Dropout(0.5))\n",
        "model.add(Dense(10,activation=\"softmax\"))"
      ],
      "execution_count": 0,
      "outputs": []
    },
    {
      "metadata": {
        "id": "ZahbiyiuaScL",
        "colab_type": "code",
        "outputId": "f65d9563-e982-4bcd-d4ff-14557ee3b3db",
        "colab": {
          "base_uri": "https://localhost:8080/",
          "height": 442
        }
      },
      "cell_type": "code",
      "source": [
        "model.compile(optimizer='adam',loss='categorical_crossentropy',metrics=['accuracy'])\n",
        "history = model.fit(x_train, y_train,batch_size=BATCH_SIZE,epochs=EPOCHS,verbose=1,validation_data=(x_test, y_test))"
      ],
      "execution_count": 0,
      "outputs": [
        {
          "output_type": "stream",
          "text": [
            "Train on 60000 samples, validate on 10000 samples\n",
            "Epoch 1/12\n",
            "60000/60000 [==============================] - 8s 133us/step - loss: 0.5027 - acc: 0.8458 - val_loss: 0.1679 - val_acc: 0.9512\n",
            "Epoch 2/12\n",
            "60000/60000 [==============================] - 8s 141us/step - loss: 0.2597 - acc: 0.9263 - val_loss: 0.1253 - val_acc: 0.9646\n",
            "Epoch 3/12\n",
            "60000/60000 [==============================] - 8s 128us/step - loss: 0.2059 - acc: 0.9429 - val_loss: 0.1333 - val_acc: 0.9634\n",
            "Epoch 4/12\n",
            "60000/60000 [==============================] - 8s 127us/step - loss: 0.1787 - acc: 0.9485 - val_loss: 0.1272 - val_acc: 0.9675\n",
            "Epoch 5/12\n",
            "60000/60000 [==============================] - 8s 127us/step - loss: 0.1588 - acc: 0.9527 - val_loss: 0.1106 - val_acc: 0.9709\n",
            "Epoch 6/12\n",
            "60000/60000 [==============================] - 8s 127us/step - loss: 0.1438 - acc: 0.9574 - val_loss: 0.1155 - val_acc: 0.9716\n",
            "Epoch 7/12\n",
            "60000/60000 [==============================] - 8s 126us/step - loss: 0.1368 - acc: 0.9592 - val_loss: 0.1126 - val_acc: 0.9707\n",
            "Epoch 8/12\n",
            "60000/60000 [==============================] - 8s 127us/step - loss: 0.1288 - acc: 0.9612 - val_loss: 0.1080 - val_acc: 0.9718\n",
            "Epoch 9/12\n",
            "60000/60000 [==============================] - 8s 128us/step - loss: 0.1186 - acc: 0.9635 - val_loss: 0.1114 - val_acc: 0.9729\n",
            "Epoch 10/12\n",
            "60000/60000 [==============================] - 8s 126us/step - loss: 0.1175 - acc: 0.9646 - val_loss: 0.1231 - val_acc: 0.9711\n",
            "Epoch 11/12\n",
            "60000/60000 [==============================] - 8s 126us/step - loss: 0.1101 - acc: 0.9659 - val_loss: 0.1285 - val_acc: 0.9717\n",
            "Epoch 12/12\n",
            "60000/60000 [==============================] - 8s 127us/step - loss: 0.1093 - acc: 0.9658 - val_loss: 0.1370 - val_acc: 0.9719\n"
          ],
          "name": "stdout"
        }
      ]
    },
    {
      "metadata": {
        "id": "qLjjVtcEaVTb",
        "colab_type": "code",
        "outputId": "071ac1ef-08f6-43d8-fdb8-117a9dcf85e5",
        "colab": {
          "base_uri": "https://localhost:8080/",
          "height": 51
        }
      },
      "cell_type": "code",
      "source": [
        "score = model.evaluate(x_test, y_test, verbose=0)\n",
        "test5_loss = score[0]*100\n",
        "test5_accuracy = score[1]*100\n",
        "\n",
        "print('Test loss:', score[0])\n",
        "print('Test accuracy:', score[1]*100)\n"
      ],
      "execution_count": 0,
      "outputs": [
        {
          "output_type": "stream",
          "text": [
            "Test loss: 0.13697145782522493\n",
            "Test accuracy: 97.19\n"
          ],
          "name": "stdout"
        }
      ]
    },
    {
      "metadata": {
        "id": "RAySkO5pa2SO",
        "colab_type": "code",
        "outputId": "b8837749-e1cb-4ed0-c05b-3ad03cda649c",
        "colab": {
          "base_uri": "https://localhost:8080/",
          "height": 295
        }
      },
      "cell_type": "code",
      "source": [
        "accu_loss(history)"
      ],
      "execution_count": 0,
      "outputs": [
        {
          "output_type": "display_data",
          "data": {
            "image/png": "[encoded data removed]",
            "text/plain": [
              "<Figure size 432x288 with 2 Axes>"
            ]
          },
          "metadata": {
            "tags": []
          }
        }
      ]
    },
    {
      "metadata": {
        "id": "SBkBWfFxdzj1",
        "colab_type": "text"
      },
      "cell_type": "markdown",
      "source": [
        "**Observations:**\n",
        "\n",
        "\n",
        "1.   Model with batchnormalization tend to overfit as comapred to dropout\n",
        "2.   Batch normalization works as a **weak reguralizer** as can seen from model_3 and model_4 plots.\n",
        "3.   Maximum accuracy of** 98.2% **found in case of model_3.\n",
        "\n"
      ]
    },
    {
      "metadata": {
        "id": "HuhxeaVucncc",
        "colab_type": "text"
      },
      "cell_type": "markdown",
      "source": [
        "##6. Summary"
      ]
    },
    {
      "metadata": {
        "id": "biSLbbQCa9kF",
        "colab_type": "code",
        "colab": {}
      },
      "cell_type": "code",
      "source": [
        "from prettytable import PrettyTable\n",
        "summary = PrettyTable()"
      ],
      "execution_count": 0,
      "outputs": []
    },
    {
      "metadata": {
        "id": "frPxXu0edKpV",
        "colab_type": "code",
        "colab": {}
      },
      "cell_type": "code",
      "source": [
        "summary.field_names = [\"Model\", \"Batch Normalization\", \"Dropout\",  \"Test Loss\",\"Test Accuracy\"]"
      ],
      "execution_count": 0,
      "outputs": []
    },
    {
      "metadata": {
        "id": "yx5X8FQFdSNx",
        "colab_type": "code",
        "colab": {}
      },
      "cell_type": "code",
      "source": [
        "summary.add_row([\"MNIST_1\",\"No\",\"Yes (0.5,0.2)\",test1_loss,test1_accuracy])\n",
        "summary.add_row([\"MNIST_2\",\"Yes\",\"yes(0.5)\",test2_loss,test2_accuracy])\n",
        "summary.add_row([\"MNIST_3\",\"Yes\",\"No\",test3_loss,test3_accuracy])\n",
        "summary.add_row([\"MNIST_4\",\"No\",\"Yes (0.5)\",test4_loss,test4_accuracy])\n",
        "summary.add_row([\"MNIST_5\",\"Yes\",\"No\",test5_loss,test5_accuracy])"
      ],
      "execution_count": 0,
      "outputs": []
    },
    {
      "metadata": {
        "id": "iPj27j_ufEWl",
        "colab_type": "code",
        "outputId": "bca9f95f-9c72-49f1-aecf-2ded7cca0abf",
        "colab": {
          "base_uri": "https://localhost:8080/",
          "height": 170
        }
      },
      "cell_type": "code",
      "source": [
        "print(summary)"
      ],
      "execution_count": 0,
      "outputs": [
        {
          "output_type": "stream",
          "text": [
            "+---------+---------------------+---------------+--------------------+-------------------+\n",
            "|  Model  | Batch Normalization |    Dropout    |     Test Loss      |   Test Accuracy   |\n",
            "+---------+---------------------+---------------+--------------------+-------------------+\n",
            "| MNIST_1 |          No         | Yes (0.5,0.2) |  8.5610925184004   |       97.42       |\n",
            "| MNIST_2 |         Yes         |    yes(0.5)   | 6.788660122929141  | 97.89999999999999 |\n",
            "| MNIST_3 |         Yes         |       No      | 6.867760741595412  |       98.15       |\n",
            "| MNIST_4 |          No         |   Yes (0.5)   | 9.193138070863206  | 97.28999999999999 |\n",
            "| MNIST_5 |         Yes         |       No      | 13.697145782522494 |       97.19       |\n",
            "+---------+---------------------+---------------+--------------------+-------------------+\n"
          ],
          "name": "stdout"
        }
      ]
    },
    {
      "metadata": {
        "id": "Bc9LH58DfGZm",
        "colab_type": "code",
        "colab": {}
      },
      "cell_type": "code",
      "source": [
        ""
      ],
      "execution_count": 0,
      "outputs": []
    }
  ]
}